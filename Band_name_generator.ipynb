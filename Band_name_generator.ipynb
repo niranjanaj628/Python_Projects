{
 "cells": [
  {
   "cell_type": "markdown",
   "id": "3aa88e1e",
   "metadata": {},
   "source": [
    "### Band name generator\n",
    "\n",
    "DAY-1.\nThis project will create a name for your music band my combining the name of the Coity that you grew up in and your pet's name"
   ]
  },
  {
   "cell_type": "code",
   "execution_count": 2,
   "id": "7f27b8bc",
   "metadata": {},
   "outputs": [
    {
     "name": "stdout",
     "output_type": "stream",
     "text": [
      "Welcome to the Band Name Generator\n",
      "What's the name of the city you grew up in? LA\n",
      "What's the name of your pet? archer\n",
      "Your band name could be LA archer.\n"
     ]
    }
   ],
   "source": [
    "#printing the welcome statement\n",
    "print('Welcome to the Band Name Generator')\n",
    "\n",
    "#To input the name of the city\n",
    "city_name=input(\"What's the name of the city you grew up in? \")\n",
    "\n",
    "#To input the name of the pet\n",
    "pet_name=input(\"What's the name of your pet? \")\n",
    "\n",
    "#concatenating the city and pet names together to create the band name and printing it out\n",
    "print(f'Your band name could be {city_name} {pet_name}.')"
   ]
  }
 ],
 "metadata": {
  "kernelspec": {
   "display_name": "Python 3 (ipykernel)",
   "language": "python",
   "name": "python3"
  },
  "language_info": {
   "codemirror_mode": {
    "name": "ipython",
    "version": 3
   },
   "file_extension": ".py",
   "mimetype": "text/x-python",
   "name": "python",
   "nbconvert_exporter": "python",
   "pygments_lexer": "ipython3",
   "version": "3.9.12"
  }
 },
 "nbformat": 4,
 "nbformat_minor": 5
}
