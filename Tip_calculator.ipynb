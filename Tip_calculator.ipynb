{
 "cells": [
  {
   "cell_type": "markdown",
   "id": "cc02c1ed",
   "metadata": {},
   "source": [
    "### Tip Calculator\n",
    "\n",
    "Day-2.\n This project calculates the total amount to be paid by each person once the percentage of tip they wish to pay has been mentioned along with the total bill amount.\n"
   ]
  },
  {
   "cell_type": "code",
   "execution_count": 3,
   "id": "9611e802",
   "metadata": {},
   "outputs": [
    {
     "name": "stdout",
     "output_type": "stream",
     "text": [
      "Welcome to the tip calculator!\n",
      "What was the total bill? $10\n",
      "How much tip would you like to give? 10, 12, or 15? 100\n",
      "How many people to split the bill? 2\n",
      "Each person should pay $10.0\n"
     ]
    }
   ],
   "source": [
    "#printing the welcome statement\n",
    "print('Welcome to the tip calculator!')\n",
    "\n",
    "#To enter the total bill amount\n",
    "total_bill=float(input('What was the total bill? $'))\n",
    "\n",
    "#To enter the percentage of tip the user wish to give\n",
    "tip_percentage=float(input('How much tip would you like to give? 10, 12, or 15? '))\n",
    "\n",
    "#To enter the number of people\n",
    "no_of_people=int(input('How many people to split the bill? '))\n",
    "\n",
    "#To calculate the total amount to be paid after adding the tip amount\n",
    "total_amount=total_bill*(1+(tip_percentage/100))\n",
    "\n",
    "#Calculating the amount to be paid by eahc person adn printing it out\n",
    "print(f'Each person should pay ${(total_amount/no_of_people)}')"
   ]
  }
 ],
 "metadata": {
  "kernelspec": {
   "display_name": "Python 3 (ipykernel)",
   "language": "python",
   "name": "python3"
  },
  "language_info": {
   "codemirror_mode": {
    "name": "ipython",
    "version": 3
   },
   "file_extension": ".py",
   "mimetype": "text/x-python",
   "name": "python",
   "nbconvert_exporter": "python",
   "pygments_lexer": "ipython3",
   "version": "3.9.12"
  }
 },
 "nbformat": 4,
 "nbformat_minor": 5
}
